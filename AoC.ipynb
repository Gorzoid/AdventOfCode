{
 "cells": [
  {
   "cell_type": "markdown",
   "metadata": {},
   "source": [
    "# Advent of Code 2018"
   ]
  },
  {
   "cell_type": "markdown",
   "metadata": {},
   "source": [
    "### Day 1"
   ]
  },
  {
   "cell_type": "code",
   "execution_count": 199,
   "metadata": {},
   "outputs": [
    {
     "name": "stdout",
     "output_type": "stream",
     "text": [
      "  0.009071 seconds (2.08 k allocations: 3.073 MiB)\n"
     ]
    },
    {
     "data": {
      "text/plain": [
       "(416, 56752)"
      ]
     },
     "execution_count": 199,
     "metadata": {},
     "output_type": "execute_result"
    }
   ],
   "source": [
    "@time let input = parse.(Int,eachline(\"input1\"))\n",
    "    freq = 0\n",
    "    history = Set(0)\n",
    "    found = false\n",
    "    while !found\n",
    "        for x = input\n",
    "            freq += x\n",
    "            if freq in history\n",
    "                found = true\n",
    "                break\n",
    "            end\n",
    "            push!(history, freq)\n",
    "        end\n",
    "    end\n",
    "    sum(input), freq\n",
    "end"
   ]
  },
  {
   "cell_type": "markdown",
   "metadata": {},
   "source": [
    "### Day 2"
   ]
  },
  {
   "cell_type": "code",
   "execution_count": 196,
   "metadata": {
    "scrolled": false
   },
   "outputs": [
    {
     "name": "stdout",
     "output_type": "stream",
     "text": [
      "  0.210266 seconds (254.25 k allocations: 12.193 MiB)\n"
     ]
    },
    {
     "data": {
      "text/plain": [
       "(15264, \"tiwcdpbseqhxryfmgkvjujvza\")"
      ]
     },
     "execution_count": 196,
     "metadata": {},
     "output_type": "execute_result"
    }
   ],
   "source": [
    "function almost_the_same(a,b)\n",
    "    diffFlag = false\n",
    "    for (c,d) = zip(a,b)\n",
    "        if c != d\n",
    "            if diffFlag\n",
    "                return false\n",
    "            end\n",
    "            diffFlag = true\n",
    "        end\n",
    "    end\n",
    "    return diffFlag # Technically if they are equal they aren't \"almost\" the same\n",
    "end\n",
    "@time let input = readlines(\"input2\")\n",
    "    twos, threes = sum(input) do line # O(nmlogm)\n",
    "        chars = sort(line |> collect) # O(mlogm) sorted so now all elements are one after another\n",
    "        counts = [0,0]\n",
    "        i = 1\n",
    "        while i <= length(chars) # O(m)\n",
    "            j = findnext(!isequal(chars[i]),chars,i)\n",
    "            j == nothing && (j = length(chars)+1)\n",
    "            if 2 <= j-i <= 3\n",
    "                counts[j-i-1] += 1\n",
    "            end\n",
    "            i = j\n",
    "        end\n",
    "        counts\n",
    "    end\n",
    "    chksum = twos * threes\n",
    "    i,j = first(\n",
    "        (i,j)\n",
    "        for i = 1:length(input)\n",
    "        for j = i+1:length(input)\n",
    "        if almost_the_same(input[i],input[j]))\n",
    "    chksum, first.(filter(x->(==)(x...),zip(input[i],input[j]) |> collect)) |> join\n",
    "end"
   ]
  },
  {
   "cell_type": "markdown",
   "metadata": {},
   "source": [
    "### Day 3"
   ]
  },
  {
   "cell_type": "code",
   "execution_count": 173,
   "metadata": {},
   "outputs": [
    {
     "name": "stdout",
     "output_type": "stream",
     "text": [
      "  0.285721 seconds (447.25 k allocations: 32.650 MiB, 3.20% gc time)\n"
     ]
    },
    {
     "data": {
      "text/plain": [
       "(118539, 1270)"
      ]
     },
     "execution_count": 173,
     "metadata": {},
     "output_type": "execute_result"
    }
   ],
   "source": [
    "@time begin\n",
    "    rects = map(eachline(\"input3\")) do line\n",
    "        pos, dims = split(line)[3:4]\n",
    "        pos = parse.(Int,split(chop(pos),','))\n",
    "        dims = pos .+ parse.(Int,split(dims,'x'))\n",
    "        (broadcast((p,d) -> 1+p:d, pos, dims)) |> Tuple |> CartesianIndices\n",
    "    end\n",
    "    grid = zeros(Int, 1000,1000)\n",
    "    for rect in rects\n",
    "        grid[rect] .+= 1\n",
    "    end\n",
    "    \n",
    "    i = findfirst(rects) do rect\n",
    "        all(isequal(1),view(grid,rect))\n",
    "    end\n",
    "    \n",
    "    count(x->x>1,grid), i\n",
    "end"
   ]
  },
  {
   "cell_type": "markdown",
   "metadata": {},
   "source": [
    "### Day 4"
   ]
  },
  {
   "cell_type": "code",
   "execution_count": 82,
   "metadata": {},
   "outputs": [
    {
     "name": "stdout",
     "output_type": "stream",
     "text": [
      "last(bestTimes[id]) = CartesianIndex(37, 1)\n",
      "  0.645827 seconds (925.75 k allocations: 45.254 MiB, 2.94% gc time)\n"
     ]
    },
    {
     "data": {
      "text/plain": [
       "(65489, 3852)"
      ]
     },
     "execution_count": 82,
     "metadata": {},
     "output_type": "execute_result"
    }
   ],
   "source": [
    "using SplitApplyCombine, Dates\n",
    "@time let logs = map(eachline(\"input4\")) do line\n",
    "        m = match(r\"^\\[(.*?)\\] (?:Guard #(\\d+) )?(.*?)$\", line)\n",
    "        dt = DateTime(first(m.captures),\"y-m-d H:M\")\n",
    "        dt => something.(m.captures[2:3],\"\") |> Vector{String}\n",
    "    end\n",
    "    sort!(logs,by=first)\n",
    "    \n",
    "    for (i,log) in enumerate(logs)\n",
    "        if isempty(log.second[1])\n",
    "            log.second[1] = logs[i-1].second[1]\n",
    "        end\n",
    "    end\n",
    "    \n",
    "    filter!(x->x |> last |> last |> !isequal(\"begins shift\"),logs)\n",
    "    \n",
    "    days = [first(last(first(v))) => map(x->x[1]=>x[2][2]==\"wakes up\",v) for (k,v) in group(dayofyear ∘ first, logs)]\n",
    "    \n",
    "    days = map(days) do (id,day)\n",
    "        arr = zeros(Bool,60)\n",
    "        \n",
    "        for (a,b) in Iterators.partition(day,2)\n",
    "            arr[1+minute(a|>first) : minute(b|>first)] .= true\n",
    "        end\n",
    "        id=>arr\n",
    "    end\n",
    "    \n",
    "    guards = Dict(k=>hcat(v...) for (k,v) in group(first,last,days))\n",
    "    \n",
    "    _,id = findmax(Dict(k=>sum(v) for (k,v) in guards))\n",
    "    \n",
    "    _,min = findmax(sum(guards[id],dims=2))\n",
    "    \n",
    "    ans1 = parse(Int,id) * (min[1]-1)\n",
    "    \n",
    "    bestTimes = Dict(k=>findmax(sum(v, dims=2)) for (k,v) in guards)\n",
    "    \n",
    "    _,id = findmax(Dict(k=>first(v) for (k,v) in bestTimes))\n",
    "    \n",
    "    @show last(bestTimes[id])\n",
    "    ans2 = parse(Int,id) * (last(bestTimes[id])[1]-1)\n",
    "    \n",
    "    ans1,ans2\n",
    "end"
   ]
  },
  {
   "cell_type": "markdown",
   "metadata": {},
   "source": [
    "### Day 5"
   ]
  },
  {
   "cell_type": "code",
   "execution_count": 83,
   "metadata": {},
   "outputs": [
    {
     "name": "stdout",
     "output_type": "stream",
     "text": [
      "  0.162378 seconds (91.49 k allocations: 20.911 MiB, 4.40% gc time)\n"
     ]
    },
    {
     "data": {
      "text/plain": [
       "(10638, 4944)"
      ]
     },
     "execution_count": 83,
     "metadata": {},
     "output_type": "execute_result"
    }
   ],
   "source": [
    "iscomplement(a,b) = a!=b && lowercase(a)==lowercase(b)\n",
    "function reduce_polymer(polymer)\n",
    "    arr = Char[]\n",
    "    for c in polymer\n",
    "        if isempty(arr) || !iscomplement(last(arr), c)\n",
    "            push!(arr,c)\n",
    "        else\n",
    "            pop!(arr)\n",
    "        end\n",
    "    end\n",
    "    arr\n",
    "end\n",
    "@time let code = readline(\"input5\") |> collect\n",
    "    l = length(code |> reduce_polymer)\n",
    "    minl = minimum( length(filter(c->lowercase(c)!=unit, code) |> reduce_polymer) for unit in 'a':'z')\n",
    "    l,minl\n",
    "end"
   ]
  },
  {
   "cell_type": "markdown",
   "metadata": {},
   "source": [
    "### Day 6"
   ]
  },
  {
   "cell_type": "code",
   "execution_count": 3,
   "metadata": {},
   "outputs": [
    {
     "name": "stderr",
     "output_type": "stream",
     "text": [
      "WARNING: redefining constant symbols\n"
     ]
    },
    {
     "data": {
      "text/plain": [
       "52-element Array{Char,1}:\n",
       " 'a'\n",
       " 'b'\n",
       " 'c'\n",
       " 'd'\n",
       " 'e'\n",
       " 'f'\n",
       " 'g'\n",
       " 'h'\n",
       " 'i'\n",
       " 'j'\n",
       " 'k'\n",
       " 'l'\n",
       " 'm'\n",
       " ⋮  \n",
       " 'O'\n",
       " 'P'\n",
       " 'Q'\n",
       " 'R'\n",
       " 'S'\n",
       " 'T'\n",
       " 'U'\n",
       " 'V'\n",
       " 'W'\n",
       " 'X'\n",
       " 'Y'\n",
       " 'Z'"
      ]
     },
     "execution_count": 3,
     "metadata": {},
     "output_type": "execute_result"
    }
   ],
   "source": [
    "const symbols = vcat('a':'z','A':'Z')\n",
    "const offsets = CartesianIndex.([(1,0),(-1,0),(0,1),(0,-1)])\n",
    "neighbours(p,sz) = filter(x->x in Carte,p.+offsets)"
   ]
  },
  {
   "cell_type": "code",
   "execution_count": 23,
   "metadata": {
    "scrolled": false
   },
   "outputs": [
    {
     "name": "stdout",
     "output_type": "stream",
     "text": [
      " 32.180404 seconds (67.32 M allocations: 2.071 GiB, 1.06% gc time)\n",
      " 32.644930 seconds (67.67 M allocations: 2.088 GiB, 1.05% gc time)\n"
     ]
    },
    {
     "data": {
      "text/plain": [
       "5941"
      ]
     },
     "execution_count": 23,
     "metadata": {},
     "output_type": "execute_result"
    }
   ],
   "source": [
    "@time let points = map(line->parse.(Int,line) |> Tuple |> CartesianIndex,split.(eachline(\"input6\"),\", \"))\n",
    "    offset = minimum(points) - CartesianIndex(1,1)\n",
    "    map!(x->x-offset,points, points)\n",
    "    \n",
    "    sz = maximum(points)\n",
    "    \n",
    "    grid = fill(' ', Tuple(sz))\n",
    "    for (i,p) in enumerate(points)\n",
    "        grid[p] = symbols[i]\n",
    "    end\n",
    "    \n",
    "    @time for i in keys(grid)\n",
    "        if grid[i] == ' '\n",
    "            idx,dist,tie = nothing,Inf,false\n",
    "            for (j,p) in enumerate(points)\n",
    "                dst = sum(abs.(Tuple(i-p)))\n",
    "                if dst < dist\n",
    "                    idx,dist,tie = j,dst,false\n",
    "                elseif dst == dist\n",
    "                    tie = true\n",
    "                end\n",
    "            end\n",
    "            grid[i] = tie ? '.' : symbols[idx]\n",
    "        end\n",
    "    end\n",
    "    \n",
    "    infinitesymbols = Set(vcat(grid[1,:], grid[end,:], grid[:,1], grid[:,end]))\n",
    "    finitesymbols = filter(x->!(x in infinitesymbols),symbols)\n",
    "    maximum(count(isequal(symbol), grid) for symbol in finitesymbols)\n",
    "end"
   ]
  },
  {
   "cell_type": "code",
   "execution_count": 28,
   "metadata": {},
   "outputs": [
    {
     "name": "stdout",
     "output_type": "stream",
     "text": [
      "  0.249727 seconds (231.95 k allocations: 11.444 MiB, 5.60% gc time)\n"
     ]
    },
    {
     "data": {
      "text/plain": [
       "40244"
      ]
     },
     "execution_count": 28,
     "metadata": {},
     "output_type": "execute_result"
    }
   ],
   "source": [
    "@time let points = map(line->parse.(Int,line) |> Tuple |> CartesianIndex,split.(eachline(\"input6\"),\", \"))\n",
    "    offset = minimum(points) - CartesianIndex(1,1)\n",
    "    map!(x->x-offset,points, points)\n",
    "    \n",
    "    sz = maximum(points)\n",
    "    \n",
    "    count(CartesianIndices(sz)) do i\n",
    "        sum(p->sum(abs.(Tuple(i-p))),points) < 10000\n",
    "    end\n",
    "end"
   ]
  },
  {
   "cell_type": "code",
   "execution_count": null,
   "metadata": {},
   "outputs": [],
   "source": []
  }
 ],
 "metadata": {
  "kernelspec": {
   "display_name": "Julia 1.0.0",
   "language": "julia",
   "name": "julia-1.0"
  },
  "language_info": {
   "file_extension": ".jl",
   "mimetype": "application/julia",
   "name": "julia",
   "version": "1.0.0"
  }
 },
 "nbformat": 4,
 "nbformat_minor": 2
}
